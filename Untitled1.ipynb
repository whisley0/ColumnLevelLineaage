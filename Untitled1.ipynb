{
 "cells": [
  {
   "cell_type": "code",
   "execution_count": 1,
   "id": "8fef8431",
   "metadata": {},
   "outputs": [
    {
     "name": "stdout",
     "output_type": "stream",
     "text": [
      "Collecting sql_server_lineage\n",
      "  Obtaining dependency information for sql_server_lineage from https://files.pythonhosted.org/packages/49/36/381f5ec84938cfb220656a559e6e72195fde191b8737aceb85c5a2e9d9eb/sql_server_lineage-1.13.0-cp311-cp311-win_amd64.whl.metadata\n",
      "  Downloading sql_server_lineage-1.13.0-cp311-cp311-win_amd64.whl.metadata (5.0 kB)\n",
      "Downloading sql_server_lineage-1.13.0-cp311-cp311-win_amd64.whl (1.5 MB)\n",
      "   ---------------------------------------- 0.0/1.5 MB ? eta -:--:--\n",
      "   ----- ---------------------------------- 0.2/1.5 MB 4.4 MB/s eta 0:00:01\n",
      "   --------------- ------------------------ 0.6/1.5 MB 9.1 MB/s eta 0:00:01\n",
      "   ------------------------------------- -- 1.4/1.5 MB 10.2 MB/s eta 0:00:01\n",
      "   ---------------------------------------- 1.5/1.5 MB 9.7 MB/s eta 0:00:00\n",
      "Installing collected packages: sql_server_lineage\n",
      "Successfully installed sql_server_lineage-1.13.0\n"
     ]
    }
   ],
   "source": [
    "!pip install sql_server_lineage"
   ]
  },
  {
   "cell_type": "code",
   "execution_count": 2,
   "id": "a2c769fa",
   "metadata": {},
   "outputs": [
    {
     "name": "stdout",
     "output_type": "stream",
     "text": [
      "C:\\Users\\ELAM2\\AppData\\Local\\anaconda3\\Lib\\site-packages\\_sql_server_lineage.cp311-win_amd64.pyd\n"
     ]
    }
   ],
   "source": [
    "from sql_server_lineage import get_lineage, generate_html_lineage\n",
    "from typing import Dict, List"
   ]
  },
  {
   "cell_type": "code",
   "execution_count": 4,
   "id": "897be6b7",
   "metadata": {},
   "outputs": [
    {
     "name": "stdout",
     "output_type": "stream",
     "text": [
      "Scope<SELECT a FROM y>\n",
      "Scope<WITH x AS (SELECT a FROM y) SELECT a FROM x>\n"
     ]
    }
   ],
   "source": [
    "from sqlglot.optimizer.scope import build_scope\n",
    "import sqlglot\n",
    "import sqlglot.expressions as exp\n",
    "from sqlglot import parse_one\n",
    "from sqlglot.optimizer import optimize\n",
    "from sqlglot import optimizer\n",
    "from sqlglot.errors import OptimizeError\n",
    "\n",
    "ast = parse_one(\"\"\"\n",
    "WITH x AS (\n",
    "  SELECT a FROM y\n",
    ")\n",
    "SELECT a FROM x\n",
    "\"\"\")\n",
    "\n",
    "root = build_scope(ast)\n",
    "for scope in root.traverse():\n",
    "    print(scope)\n",
    "\n",
    "# Scope<SELECT a FROM y>\n",
    "# Scope<WITH x AS (SELECT a FROM y) SELECT a FROM x>"
   ]
  },
  {
   "cell_type": "code",
   "execution_count": 5,
   "id": "af79d9c0",
   "metadata": {},
   "outputs": [
    {
     "name": "stdout",
     "output_type": "stream",
     "text": [
      "y\n"
     ]
    }
   ],
   "source": [
    "tables = [\n",
    "    source\n",
    "\n",
    "    # Traverse the Scope tree, not the AST\n",
    "    for scope in root.traverse()\n",
    "\n",
    "    # `selected_sources` contains sources that have been selected in this scope, e.g. in a FROM or JOIN clause.\n",
    "    # `alias` is the name of this source in this particular scope.\n",
    "    # `node` is the AST node instance\n",
    "    # if the selected source is a subquery (including common table expressions),\n",
    "    #     then `source` will be the Scope instance for that subquery.\n",
    "    # if the selected source is a table,\n",
    "    #     then `source` will be a Table instance.\n",
    "    for alias, (node, source) in scope.selected_sources.items()\n",
    "    if isinstance(source, exp.Table)\n",
    "]\n",
    "\n",
    "for table in tables:\n",
    "    print(table)\n",
    "\n",
    "# y  -- Success!"
   ]
  },
  {
   "cell_type": "code",
   "execution_count": null,
   "id": "7c0184ad",
   "metadata": {},
   "outputs": [],
   "source": []
  }
 ],
 "metadata": {
  "kernelspec": {
   "display_name": "Python 3 (ipykernel)",
   "language": "python",
   "name": "python3"
  },
  "language_info": {
   "codemirror_mode": {
    "name": "ipython",
    "version": 3
   },
   "file_extension": ".py",
   "mimetype": "text/x-python",
   "name": "python",
   "nbconvert_exporter": "python",
   "pygments_lexer": "ipython3",
   "version": "3.11.4"
  }
 },
 "nbformat": 4,
 "nbformat_minor": 5
}
